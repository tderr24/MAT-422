{
  "cells": [
    {
      "cell_type": "markdown",
      "metadata": {
        "id": "view-in-github",
        "colab_type": "text"
      },
      "source": [
        "<a href=\"https://colab.research.google.com/github/tderr24/MAT-422/blob/main/HW_3_2.ipynb\" target=\"_parent\"><img src=\"https://colab.research.google.com/assets/colab-badge.svg\" alt=\"Open In Colab\"/></a>"
      ]
    },
    {
      "cell_type": "markdown",
      "id": "bab837a2",
      "metadata": {
        "id": "bab837a2"
      },
      "source": [
        "# MAT 422\n",
        "\n",
        "## HW 3.2 - Continuity and Differentiation\n",
        "\n",
        "### Thomas Derr"
      ]
    },
    {
      "cell_type": "code",
      "execution_count": null,
      "id": "00b6e05c",
      "metadata": {
        "id": "00b6e05c"
      },
      "outputs": [],
      "source": [
        "import numpy as np\n",
        "from scipy import stats\n",
        "from scipy.optimize import minimize\n",
        "import pandas as pd\n",
        "import matplotlib.pyplot as plt\n",
        "from sklearn.linear_model import LinearRegression\n",
        "import math\n",
        "import numdifftools as nd"
      ]
    },
    {
      "cell_type": "markdown",
      "id": "3fb1eaf2",
      "metadata": {
        "id": "3fb1eaf2"
      },
      "source": [
        "## Limits and Continuity\n",
        "\n",
        "\n",
        "If we have some function $f: D \\rightarrow \\mathbb{R}$ where $D\\subseteq \\mathbb{R}^d$\n",
        "\n",
        "Then $f$ has limit $L \\in \\mathbb{R}$ as $x$ approaches $a$ if for all $\\epsilon > 0$, there exists $\\delta > 0$ such that\n",
        "\n",
        "$|f(x)-L| < \\epsilon$ for all $x \\in D \\hat B_\\delta (a) \\backslash \\{a\\}$\n",
        "\n",
        "we can write this as\n",
        "\n",
        "$\\lim \\limits _{x\\rightarrow a}f(x) = L$\n",
        "\n",
        "we call $f$ continuous at $a \\in D$\n",
        "\n",
        "$\\lim \\limits _{x\\rightarrow a}f(x) = f(a)$\n"
      ]
    },
    {
      "cell_type": "code",
      "execution_count": null,
      "id": "3898c59c",
      "metadata": {
        "id": "3898c59c",
        "outputId": "27874a20-ee0e-4a54-9b8d-e7c81ce82747"
      },
      "outputs": [
        {
          "data": {
            "image/png": "[encoded data removed]",
            "text/plain": [
              "<Figure size 432x288 with 1 Axes>"
            ]
          },
          "metadata": {
            "needs_background": "light"
          },
          "output_type": "display_data"
        }
      ],
      "source": [
        "x = np.linspace(0, 8, 100)\n",
        "y = 3 * x ** 3 - 20 * x ** 2\n",
        "\n",
        "\n",
        "def fx(x):\n",
        "    return 3 * x ** 3 - 20 * x ** 2\n",
        "\n",
        "epsilon = 4\n",
        "a = 6.2\n",
        "delta = 0.1\n",
        "\n",
        "fig, ax = plt.subplots()\n",
        "\n",
        "ax.plot(x, y)\n",
        "\n",
        "ax.axhline(y=fx(a) - epsilon, xmin=0.0, xmax=1.0, color='r')\n",
        "ax.axhline(y=fx(a) + epsilon, xmin=0.0, xmax=1.0, color='r')\n",
        "\n",
        "ax.axvline(x=a + delta, ymin=0.0, ymax=1.0, color='b')\n",
        "ax.axvline(x=a-delta, ymin=0.0, ymax=1.0, color='b')\n",
        "\n",
        "\n",
        "plt.show()"
      ]
    },
    {
      "cell_type": "markdown",
      "id": "10d65d3c",
      "metadata": {
        "id": "10d65d3c"
      },
      "source": [
        "## Derivatives\n",
        "\n",
        "The derivative of a function is the rate of change of one varibable compared to another\n",
        "\n",
        "In the simplest case, we can state that given a value $x_0 \\in D$, the derivative of a function $f$ at $x_0$ is\n",
        "\n",
        "$\\frac{df(x_0)}{dx}=\\lim \\limits _{h \\rightarrow 0} \\frac{f(x_0 + h) - f(x_0)}{h}$\n",
        "\n",
        "We call this the derivative of $f$ with respect to $x$ at $x_0$\n",
        "\n",
        "\n",
        "We can generalize this by defining the partial derivative of $f$ at $x_0$ with respect to any $x_i$ as\n",
        "\n",
        "$\\frac{\\partial f(x_0)}{\\partial x_i} = \\lim \\limits _{h\\rightarrow 0} \\frac{f(x_0+he_i) - f(x_0)}{h}$\n",
        "\n",
        "(where $e_i$ is the $i$th standard basis vector)\n",
        "\n",
        "We define the gradient of $f$ at $x_0$ to be\n",
        "\n",
        "$\\nabla f(x_0) = \\begin{bmatrix}(\\frac{\\partial f(x_0)}{\\partial x_1} \\\\ \\frac{\\partial f(x_0)}{\\partial x_2} \\\\ \\vdots \\\\ \\frac{\\partial f(x_0)}{\\partial x_d} )\\end{bmatrix}$\n",
        "\n",
        "IE: it is a column matrix where each index $i$ is the partial derivative of $f$ at $x_0$ with respect to $x_i$\n"
      ]
    },
    {
      "cell_type": "code",
      "execution_count": null,
      "id": "7193e7c6",
      "metadata": {
        "id": "7193e7c6",
        "outputId": "cc6f1700-1bd0-4afb-fc76-53be454a20ac"
      },
      "outputs": [
        {
          "data": {
            "text/plain": [
              "-44.000001999222604"
            ]
          },
          "execution_count": 67,
          "metadata": {},
          "output_type": "execute_result"
        }
      ],
      "source": [
        "#simple derivative\n",
        "def fx(x):\n",
        "    return 3 * x ** 3 - 20 * x ** 2\n",
        "\n",
        "\n",
        "def derivative(f, x0):\n",
        "    h = 0.000001\n",
        "    return (f(x0+h) - f(x0)) / h\n",
        "\n",
        "derivative(fx, 2)"
      ]
    },
    {
      "cell_type": "code",
      "execution_count": null,
      "id": "4af65847",
      "metadata": {
        "id": "4af65847",
        "outputId": "dd6e05f0-6ebe-42a4-ae3d-d5a22c5a0335"
      },
      "outputs": [
        {
          "data": {
            "text/plain": [
              "array([4., 6.])"
            ]
          },
          "execution_count": 86,
          "metadata": {},
          "output_type": "execute_result"
        }
      ],
      "source": [
        "#gradient and partial derivative\n",
        "point = [2,3]\n",
        "\n",
        "f2x = lambda xy: 3 * xy ** 2 - 2 * xy ** 2\n",
        "\n",
        "partialz = nd.Gradient(f2x)\n",
        "partialx, partialy = partialz(point)\n",
        "\n",
        "(partialx + partialy)"
      ]
    },
    {
      "cell_type": "markdown",
      "id": "be3a43fb",
      "metadata": {
        "id": "be3a43fb"
      },
      "source": [
        "## Taylor's Theorem\n",
        "\n",
        "Taylors theorem is a generalization of the Mean Value Theorem. It gives a polynomial approximation of a function around a point.\n",
        "\n",
        "given a function $f: D \\rightarrow \\mathbb{R}$ where $D \\subseteq \\mathbb{R}$, with an $m$ times continuous derivative on $[a,b]$, then\n",
        "\n",
        "$f(b) = f(a) + (b-a)f'(a) + \\frac{1}{2}(b-a)^2f''(a) + ... + \\frac{(b-a)^{m-1}}{(m-1)!}f^{(m-1)}(a)+R_m$\n",
        "\n",
        "Where $R_m = \\frac{(b-a)^m}{(m)!}f^{(m)}(a+\\theta(b-a))$ for some $0 < \\theta < 1$\n",
        "\n",
        "This is useful as it allows us to compute a polynomial function that is similar to some desired function that might be harder to compute"
      ]
    },
    {
      "cell_type": "code",
      "execution_count": null,
      "id": "9477f593",
      "metadata": {
        "id": "9477f593",
        "outputId": "eecac122-bc72-4b93-cc70-ad5444d1df31"
      },
      "outputs": [
        {
          "data": {
            "text/plain": [
              "Text(0.5, 1.0, 'Different Order Taylor Series Compared To Original Function')"
            ]
          },
          "execution_count": 105,
          "metadata": {},
          "output_type": "execute_result"
        },
        {
          "data": {
            "image/png": "[encoded data removed]",
            "text/plain": [
              "<Figure size 432x288 with 1 Axes>"
            ]
          },
          "metadata": {
            "needs_background": "light"
          },
          "output_type": "display_data"
        }
      ],
      "source": [
        "x = np.linspace(-5, 5, 300)\n",
        "y = np.zeros(len(x))\n",
        "\n",
        "\n",
        "lines = ['1st order', '2nd order', '3rd order', '4th order', '5th order']\n",
        "plt.figure()\n",
        "\n",
        "for n, line in zip(range(5), lines):\n",
        "    y0 = y + ((-1)**n * (x)**(2*n+1)) / np.math.factorial(2*n+1)\n",
        "    y = y0\n",
        "    plt.plot(x,y,label = line)\n",
        "\n",
        "plt.plot(x, np.sin(x), label='f(x) = sin(x)L')\n",
        "plt.legend()\n",
        "plt.title(\"Different Order Taylor Series Compared To Original Function\")\n"
      ]
    },
    {
      "cell_type": "code",
      "execution_count": null,
      "id": "103179f9",
      "metadata": {
        "id": "103179f9"
      },
      "outputs": [],
      "source": []
    }
  ],
  "metadata": {
    "kernelspec": {
      "display_name": "Python 3",
      "language": "python",
      "name": "python3"
    },
    "language_info": {
      "codemirror_mode": {
        "name": "ipython",
        "version": 3
      },
      "file_extension": ".py",
      "mimetype": "text/x-python",
      "name": "python",
      "nbconvert_exporter": "python",
      "pygments_lexer": "ipython3",
      "version": "3.8.10"
    },
    "colab": {
      "provenance": [],
      "include_colab_link": true
    }
  },
  "nbformat": 4,
  "nbformat_minor": 5
}