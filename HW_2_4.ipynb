{
  "cells": [
    {
      "cell_type": "markdown",
      "metadata": {
        "id": "view-in-github",
        "colab_type": "text"
      },
      "source": [
        "<a href=\"https://colab.research.google.com/github/tderr24/MAT-422/blob/main/HW_2_4.ipynb\" target=\"_parent\"><img src=\"https://colab.research.google.com/assets/colab-badge.svg\" alt=\"Open In Colab\"/></a>"
      ]
    },
    {
      "cell_type": "markdown",
      "id": "16119ba0",
      "metadata": {
        "id": "16119ba0"
      },
      "source": [
        "# MAT 422\n",
        "\n",
        "## HW 2.4 - Maximum Likelihood Estimation\n",
        "\n",
        "### Thomas Derr"
      ]
    },
    {
      "cell_type": "code",
      "execution_count": null,
      "id": "76582864",
      "metadata": {
        "id": "76582864"
      },
      "outputs": [],
      "source": [
        "import numpy as np\n",
        "from scipy import stats\n",
        "from scipy.optimize import minimize\n",
        "import pandas as pd\n",
        "import matplotlib.pyplot as plt\n",
        "from sklearn.linear_model import LinearRegression\n",
        "import math"
      ]
    },
    {
      "cell_type": "markdown",
      "id": "f213d919",
      "metadata": {
        "id": "f213d919"
      },
      "source": [
        "## MLE for Random Samples\n",
        "\n",
        "The MLE (maximum likelihood estimate) of a probability distribution is a point in its parameter space that maximizes the likelihood function.\n",
        "\n",
        "If we have $X_1, X_2, ..., X_n$ with a joint pmf/pdf of\n",
        "\n",
        "$f(x_1, x_2, ..., x_n; \\theta_1, \\theta_2, ..., \\theta_m)$\n",
        "\n",
        "which is a function of $\\theta_1, \\theta_2, ..., \\theta_m$ with sample values of $x_1, x_2, ..., x_n$. This is the likelihood function we seek to maximize\n",
        "\n",
        "i.e., we wish to find $\\hat{\\theta}_1, \\hat{\\theta}_2, ..., \\hat{\\theta}_m$ such that\n",
        "\n",
        "$f(x_1, x_2, ..., x_n; \\hat{\\theta}_1, \\hat{\\theta}_2, ..., \\hat{\\theta}_m) \\geq f(x_1, x_2, ..., x_n; \\theta_1, \\theta_2, ..., \\theta_m)$ for all possible $\\theta_1, \\theta_2, ..., \\theta_m$\n"
      ]
    },
    {
      "cell_type": "code",
      "execution_count": null,
      "id": "788e653d",
      "metadata": {
        "id": "788e653d",
        "outputId": "b5ce2dce-1d64-4fc2-a08c-97dc2930c716"
      },
      "outputs": [
        {
          "name": "stdout",
          "output_type": "stream",
          "text": [
            "Optimization terminated successfully.\n",
            "         Current function value: -46.113473\n",
            "         Iterations: 12\n",
            "         Function evaluations: 70\n",
            "         Gradient evaluations: 14\n"
          ]
        },
        {
          "data": {
            "text/plain": [
              "<matplotlib.lines._AxLine at 0x7fed3d92bb20>"
            ]
          },
          "execution_count": 14,
          "metadata": {},
          "output_type": "execute_result"
        },
        {
          "data": {
            "image/png": "[encoded data removed]",
            "text/plain": [
              "<Figure size 432x288 with 1 Axes>"
            ]
          },
          "metadata": {
            "needs_background": "light"
          },
          "output_type": "display_data"
        }
      ],
      "source": [
        "X = np.random.rand(50)\n",
        "Y = np.random.rand(50)\n",
        "dat = X+ (np.divide([Y], 3))\n",
        "\n",
        "# Helper functions  from\n",
        "# https://jekel.me/2016/Maximum-Likelihood-Linear-Regression/\n",
        "def calcLogLikelihood(guess, true, n):\n",
        "    error = true-guess\n",
        "    sigma = np.std(error)\n",
        "    f = ((1.0/(2.0*math.pi*sigma*sigma))**(n/2))*np.exp(-1*((np.dot(error.T,error))/(2*sigma*sigma)))\n",
        "    return np.log(f)\n",
        "\n",
        "def function(var):\n",
        "    yGuess = (var[2]*(X**2)) + (var[1]*X) + var[0]\n",
        "    return -1 * calcLogLikelihood(yGuess, dat[0], float(len(yGuess)))\n",
        "\n",
        "mle = minimize(function, [0.2, 0.5, 0.8], method='BFGS', options={'disp': True})\n",
        "\n",
        "fig, ax = plt.subplots()\n",
        "ax.scatter(X, dat)\n",
        "ax.axline((0, mle.x[0]), slope = mle.x[1], color='red')"
      ]
    },
    {
      "cell_type": "markdown",
      "id": "9bf6ecb3",
      "metadata": {
        "id": "9bf6ecb3"
      },
      "source": [
        "## Linear Regression\n",
        "\n",
        "Like we explained in previous homework, in linear regresion, if we are given $n$ data points $(x_1, y_1), (x_2, y_2), ... ,(x_n, y_n)$, we wish to find coefficients $\\beta_1, ..., \\beta_p$ so as to minimize\n",
        "\n",
        "$\\sum \\limits _{i=1} ^n (y_i - \\hat{y}_i)^2$\n",
        "\n",
        "For each $\\hat{y}_i$ where\n",
        "\n",
        "$\\hat{y}_i = \\beta_0 + \\beta_1x_{i1}+ ... + \\beta_px_{ip}$\n",
        "\n",
        "\n",
        "If we think of this probabilistically, this is an attempt to find a function with a maximized pdf so as to fit the given data, i.e. we want a maximum likelihood estimate of the pdf"
      ]
    },
    {
      "cell_type": "code",
      "execution_count": null,
      "id": "ded4244d",
      "metadata": {
        "id": "ded4244d",
        "outputId": "b65a7d89-cdcd-4cf9-f36c-85d5da073315"
      },
      "outputs": [
        {
          "data": {
            "text/plain": [
              "<matplotlib.lines._AxLine at 0x7fed3da826a0>"
            ]
          },
          "execution_count": 10,
          "metadata": {},
          "output_type": "execute_result"
        },
        {
          "data": {
            "image/png": "[encoded data removed]",
            "text/plain": [
              "<Figure size 432x288 with 1 Axes>"
            ]
          },
          "metadata": {
            "needs_background": "light"
          },
          "output_type": "display_data"
        }
      ],
      "source": [
        "A = np.stack([X, np.ones(len(X))]).T\n",
        "m, c = np.linalg.lstsq(A, dat[0], rcond=None)[0]\n",
        "\n",
        "fig, ax = plt.subplots()\n",
        "ax.scatter(X, dat)\n",
        "ax.axline((0, c), slope = m, color='red')"
      ]
    },
    {
      "cell_type": "markdown",
      "id": "bf4d0fb0",
      "metadata": {
        "id": "bf4d0fb0"
      },
      "source": [
        "As can be seen, both the direct least squares method, and the MLE method can be used to estimate a function to fit the given points"
      ]
    },
    {
      "cell_type": "code",
      "execution_count": null,
      "id": "31901e50",
      "metadata": {
        "id": "31901e50"
      },
      "outputs": [],
      "source": []
    }
  ],
  "metadata": {
    "kernelspec": {
      "display_name": "Python 3",
      "language": "python",
      "name": "python3"
    },
    "language_info": {
      "codemirror_mode": {
        "name": "ipython",
        "version": 3
      },
      "file_extension": ".py",
      "mimetype": "text/x-python",
      "name": "python",
      "nbconvert_exporter": "python",
      "pygments_lexer": "ipython3",
      "version": "3.8.10"
    },
    "colab": {
      "provenance": [],
      "include_colab_link": true
    }
  },
  "nbformat": 4,
  "nbformat_minor": 5
}