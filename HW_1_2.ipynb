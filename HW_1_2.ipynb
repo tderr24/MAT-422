{
  "cells": [
    {
      "cell_type": "markdown",
      "metadata": {
        "id": "view-in-github",
        "colab_type": "text"
      },
      "source": [
        "<a href=\"https://colab.research.google.com/github/tderr24/MAT-422/blob/main/HW_1_2.ipynb\" target=\"_parent\"><img src=\"https://colab.research.google.com/assets/colab-badge.svg\" alt=\"Open In Colab\"/></a>"
      ]
    },
    {
      "cell_type": "markdown",
      "id": "40a591b4",
      "metadata": {
        "id": "40a591b4"
      },
      "source": [
        "# MAT 422\n",
        "\n",
        "## HW 1.2 - Elements of Linear Algebra\n",
        "\n",
        "### Thomas Derr"
      ]
    },
    {
      "cell_type": "code",
      "execution_count": null,
      "id": "2b9dbc40",
      "metadata": {
        "id": "2b9dbc40"
      },
      "outputs": [],
      "source": [
        "# Import libraries\n",
        "import numpy as np\n",
        "import matplotlib.pyplot as plt"
      ]
    },
    {
      "cell_type": "markdown",
      "id": "6a1ac74d",
      "metadata": {
        "id": "6a1ac74d"
      },
      "source": [
        "# 1.2.1 Linear Spaces\n",
        "\n",
        "\n",
        "#### 1 Linear Combination\n",
        "\n",
        "\n",
        "- linear combination - new vector constructed by multiplying two vectors and adding the result\n",
        "- linear subspace - a subset $U \\subseteq V$ that is closed under vector addition and multiplication\n",
        "- column space - span of the columns of a given matrix\n",
        "    - span = the set of all linear combinations of $w_i$ in a linear subspace"
      ]
    },
    {
      "cell_type": "code",
      "execution_count": null,
      "id": "94e78f4f",
      "metadata": {
        "id": "94e78f4f"
      },
      "outputs": [],
      "source": [
        "vectorX = np.array([0, 1, 2, 3])\n",
        "vectorY = np.array([4, 5, 6, 7])\n",
        "\n",
        "LinearCombination = 5 * vectorX + 2 * vectorY\n",
        "\n",
        "# Both vectorX and vectorY are in R^4\n",
        "\n",
        "a = 3  # could be any real number\n",
        "b = 2  # could be any real number\n",
        "\n",
        "span = a * vectorX + b * vectorY\n",
        "# the span of these two vectors is in R4\n"
      ]
    },
    {
      "cell_type": "markdown",
      "id": "8144b2dc",
      "metadata": {
        "id": "8144b2dc"
      },
      "source": [
        "In this case, our resulting span is\n",
        "\n",
        "[0, a, 2a, 3a] + [4b, 5b, 6b, 7b] which works out to all vectors of the form [4b, a + 5b, 2a + 6b, 3a + 7b] in $R^4$\n",
        "\n",
        "When we use $a = 3, b=2$ we get the vector [8, 13, 18, 23] which is vector in the span of a and b which itself is a linear subspace of $R^4$\n",
        "\n",
        "#### 2 Linear Independence and Dimension\n",
        "\n",
        "\n",
        "- two vectors are linearly independent if no linear combination of them equals the zero vector (as long as not all $\\sigma_i$ equals 0)\n",
        "    - otherwise they are linearly dependent\n",
        "- A basis for a vector space is a set of vectors that can create any element in the space through linear combinations.\n",
        "    - There can be multiple bases for a vector space but they must all have the same dimension (number of elements)\n"
      ]
    },
    {
      "cell_type": "code",
      "execution_count": null,
      "id": "7917303b",
      "metadata": {
        "id": "7917303b",
        "outputId": "9efb1641-83b5-4339-ba08-b6b5fd583a23"
      },
      "outputs": [
        {
          "data": {
            "text/plain": [
              "array([4, 3, 2])"
            ]
          },
          "execution_count": 17,
          "metadata": {},
          "output_type": "execute_result"
        }
      ],
      "source": [
        "# Each axis in R3 is defined by a unique linearly independent vector\n",
        "\n",
        "x = np.array([1, 0, 0])\n",
        "y = np.array([0, 1, 0])\n",
        "z = np.array([0, 0, 1])\n",
        "\n",
        "# additionally with linear combinations of these three vectors, we can make any vector in R3\n",
        "\n",
        "# thus these vectors also form a basis for the vector space R3\n",
        "\n",
        "\n",
        "#Example if we wanted to make the point [4, 3 , 2], we can do it like this\n",
        "\n",
        "fourThreeTwo = 4*x + 3*y + 2 * z\n",
        "fourThreeTwo"
      ]
    },
    {
      "cell_type": "markdown",
      "id": "3780167d",
      "metadata": {
        "id": "3780167d"
      },
      "source": [
        "# 1.2.2 Orthogonality\n",
        "\n",
        "#### 1 Orthonormal Bases\n",
        "\n",
        "In the previous example, we established that x, y, and z formed a basis for $R^3$\n",
        "\n",
        "Because they all happen to be unit vectors of length 1, and are orthogonal to eachother, they are also an orthonormal basis"
      ]
    },
    {
      "cell_type": "markdown",
      "id": "6d647b24",
      "metadata": {
        "id": "6d647b24"
      },
      "source": [
        "#### 2 Best Approximation Theorem\n",
        "\n",
        "- essentially allows us to find the closest vector in a subspace to some vector not in that subspace\n",
        "\n",
        "\n",
        "A trivial example might be"
      ]
    },
    {
      "cell_type": "code",
      "execution_count": null,
      "id": "84080de3",
      "metadata": {
        "id": "84080de3"
      },
      "outputs": [],
      "source": [
        "vectorR3 = [1, 2, 3]\n",
        "bestApproxR2 = [1,2]"
      ]
    },
    {
      "cell_type": "markdown",
      "id": "e5d0acd1",
      "metadata": {
        "id": "e5d0acd1"
      },
      "source": [
        "Perhaps we want to find the closest vector in $R^2$ to this vector in $R^3$\n",
        "\n",
        "This is a bit over simplified but since $R^2$ is a subset of $R^3$ (any vector of the form [a,b] in  $R^2$ can be shown as [a, b, 0] in $R^3$) we essentially want to find a point in $R^2$ that we can draw a line to $R^3$ with the shortest possible distance (i.e. by creating a line orthogonal to $R^2$ in $R^3$ that passes through our point)\n",
        "\n",
        "For this case, the vector [1,2] would be the best approximation of [1,2,3] in $R^2$\n",
        "\n",
        "\n",
        "# 1.2.3 Gram-Schmidt Process\n",
        "\n",
        "\n",
        "- Process used to determine an orthonormal basis of a span of vectors\n"
      ]
    },
    {
      "cell_type": "code",
      "execution_count": null,
      "id": "1ee1ff08",
      "metadata": {
        "id": "1ee1ff08",
        "outputId": "ffa0c0a6-509b-4aeb-85cd-dad85ed0d56c"
      },
      "outputs": [
        {
          "data": {
            "text/plain": [
              "(array([4, 1]), array([-0.58823529,  2.35294118]))"
            ]
          },
          "execution_count": 25,
          "metadata": {},
          "output_type": "execute_result"
        }
      ],
      "source": [
        "vectorA = np.array([4,1])\n",
        "\n",
        "vectorB = np.array([2,3])\n",
        "\n",
        "\n",
        "vA = vectorA #normalize\n",
        "\n",
        "vB = vectorB - (np.dot(vectorA, vectorB) / np.dot(vectorA, vectorA)) * vectorA\n",
        "\n",
        "vA, vB\n"
      ]
    },
    {
      "cell_type": "markdown",
      "id": "0dce65a8",
      "metadata": {
        "id": "0dce65a8"
      },
      "source": [
        "# 1.2.4 Eigenvalues and Eigenvectors\n",
        "\n",
        "For any square matrix $A \\in \\mathbb{R} ^{d\\times d}$\n",
        "\n",
        "$\\lambda$ is an eigenvalue if $A$ if there exists a nonzero vector x such that $Ax = \\lambda x$\n",
        "\n",
        "if such $x$ exists it is called an eigenvector"
      ]
    },
    {
      "cell_type": "code",
      "execution_count": null,
      "id": "12599991",
      "metadata": {
        "id": "12599991"
      },
      "outputs": [],
      "source": [
        "vector = np.array([[4,1], [5, 2]])\n",
        "\n",
        "vals, vecs = np.linalg.eig(vector)"
      ]
    },
    {
      "cell_type": "code",
      "execution_count": null,
      "id": "2bb929e3",
      "metadata": {
        "id": "2bb929e3",
        "outputId": "2fa1027a-1a55-4593-a047-4e2e196a007e"
      },
      "outputs": [
        {
          "data": {
            "text/plain": [
              "array([5.44948974, 0.55051026])"
            ]
          },
          "execution_count": 33,
          "metadata": {},
          "output_type": "execute_result"
        }
      ],
      "source": [
        "vals # eigenvalues"
      ]
    },
    {
      "cell_type": "code",
      "execution_count": null,
      "id": "3bb2c8c3",
      "metadata": {
        "id": "3bb2c8c3",
        "outputId": "c7c08cc4-09ed-462c-d060-8b2e2b7dc17e"
      },
      "outputs": [
        {
          "data": {
            "text/plain": [
              "array([[ 0.56786837, -0.27843404],\n",
              "       [ 0.82311938,  0.96045535]])"
            ]
          },
          "execution_count": 34,
          "metadata": {},
          "output_type": "execute_result"
        }
      ],
      "source": [
        "vecs  # eigenvectors"
      ]
    },
    {
      "cell_type": "code",
      "execution_count": null,
      "id": "084a2e08",
      "metadata": {
        "id": "084a2e08"
      },
      "outputs": [],
      "source": []
    }
  ],
  "metadata": {
    "kernelspec": {
      "display_name": "Python 3 (ipykernel)",
      "language": "python",
      "name": "python3"
    },
    "language_info": {
      "codemirror_mode": {
        "name": "ipython",
        "version": 3
      },
      "file_extension": ".py",
      "mimetype": "text/x-python",
      "name": "python",
      "nbconvert_exporter": "python",
      "pygments_lexer": "ipython3",
      "version": "3.9.12"
    },
    "colab": {
      "provenance": [],
      "include_colab_link": true
    }
  },
  "nbformat": 4,
  "nbformat_minor": 5
}