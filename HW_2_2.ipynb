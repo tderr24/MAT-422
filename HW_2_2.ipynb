{
  "cells": [
    {
      "cell_type": "markdown",
      "metadata": {
        "id": "view-in-github",
        "colab_type": "text"
      },
      "source": [
        "<a href=\"https://colab.research.google.com/github/tderr24/MAT-422/blob/main/HW_2_2.ipynb\" target=\"_parent\"><img src=\"https://colab.research.google.com/assets/colab-badge.svg\" alt=\"Open In Colab\"/></a>"
      ]
    },
    {
      "cell_type": "markdown",
      "id": "18204d22",
      "metadata": {
        "id": "18204d22"
      },
      "source": [
        "# MAT 422\n",
        "\n",
        "## HW 2.2 - Probability Distribution\n",
        "\n",
        "### Thomas Derr"
      ]
    },
    {
      "cell_type": "code",
      "execution_count": null,
      "id": "6b10a0b5",
      "metadata": {
        "id": "6b10a0b5"
      },
      "outputs": [],
      "source": [
        "import numpy as np\n",
        "import pandas as pd"
      ]
    },
    {
      "cell_type": "markdown",
      "id": "2f2254c6",
      "metadata": {
        "id": "2f2254c6"
      },
      "source": [
        "## Probability Axioms\n",
        "\n",
        "- Sample Spaces and Events\n",
        "\n",
        "\n",
        "In an experimet, the sample space $S$ is the set of all possible outcomes\n",
        "\n",
        "An Event is a subset of outcomes within $S$ (simple if only one outcome and complex if more than one)\n",
        "\n",
        "The probability distribution of an experiment is a function that assigns probability $P(A)$ to each event $A$ in accordance with the following axioms\n",
        "\n",
        "- $\\forall A \\in S, 1\\geq P(A) \\geq 0$\n",
        "- $P(S) = 1$\n",
        "- Given an infinite set of disjoint events $A_1, A_2, ..., $\n",
        "    - $P(A_1 \\cup A_2 \\cup ...) = \\sum \\limits_{i=1}^\\infty P(A_i)$\n",
        "    \n",
        "- For any event $A, P(A) + P(A') = 1$\n",
        "- When events $A$ and $B$ are mutually exclusive\n",
        "    - $P(A\\cup B) = P(A) + P(B)$\n",
        "    \n",
        "- For any two events $A$ and $B$\n",
        "    -  $P(A\\cup B) = P(A) + P(B) - P(A \\cap B)$"
      ]
    },
    {
      "cell_type": "code",
      "execution_count": null,
      "id": "5075063d",
      "metadata": {
        "id": "5075063d",
        "outputId": "81b743c0-74df-424b-c543-12b60cb001cf"
      },
      "outputs": [
        {
          "data": {
            "text/plain": [
              "0.6666666666666666"
            ]
          },
          "execution_count": 6,
          "metadata": {},
          "output_type": "execute_result"
        }
      ],
      "source": [
        "S = {1,2,3,4,5,6}\n",
        "\n",
        "A = {1}\n",
        "\n",
        "B = {2,3,4}\n",
        "\n",
        "P_A = len(A) / len(S)\n",
        "\n",
        "P_B = len(B) / len(S)\n",
        "\n",
        "# These are disjoint events\n",
        "\n",
        "P_AandB = P_A + P_B\n",
        "\n",
        "P_AandB"
      ]
    },
    {
      "cell_type": "markdown",
      "id": "f638f61b",
      "metadata": {
        "id": "f638f61b"
      },
      "source": [
        "## Conditional Probability\n",
        "\n",
        "For any two events $A$ and $B$ with $P(B) > 0$, the conditional probability of $A$ given $B$ has occured is defined as\n",
        "\n",
        "$P(A|B) = \\frac{P(A \\cap B)}{P(B)}$\n",
        "\n",
        "Two events $A$ and $B$ are independent if\n",
        "\n",
        "$P(A|B) = P(A)$\n",
        "\n",
        "Events $A_1,...,A_n$ are mutually independent if for every $k \\in \\{1,2,...,n\\}$, and for every subset of indices $i_1, i_2, ..., i_k$,\n",
        "\n",
        "\n",
        "$P(A_{i_1} \\cap A_{i_2} \\cap ... \\cap A_{i_k}) = P(A_{i_1}) \\cdot P(A_{i_2})\\cdot ... \\cdot P(A_{i_k})$\n"
      ]
    },
    {
      "cell_type": "code",
      "execution_count": null,
      "id": "fdb5fcdd",
      "metadata": {
        "id": "fdb5fcdd",
        "outputId": "f62ed910-8261-433f-897a-7e2bc76700ea"
      },
      "outputs": [
        {
          "data": {
            "text/plain": [
              "0.3333333333333333"
            ]
          },
          "execution_count": 8,
          "metadata": {},
          "output_type": "execute_result"
        }
      ],
      "source": [
        "S = {1,2,3,4,5,6}\n",
        "\n",
        "A = {1,2}\n",
        "\n",
        "B = {2,3,4}\n",
        "\n",
        "P_A = len(A) / len(S)\n",
        "\n",
        "P_B = len(B) / len(S)\n",
        "\n",
        "# These are disjoint events\n",
        "\n",
        "AandB = A.intersection(B)\n",
        "\n",
        "P_AandB = len(AandB) / len(S)\n",
        "\n",
        "P_AgivenB = P_AandB / P_B\n",
        "P_AgivenB"
      ]
    },
    {
      "cell_type": "markdown",
      "id": "a7baeca0",
      "metadata": {
        "id": "a7baeca0"
      },
      "source": [
        "## Discrete Random Variables\n",
        "\n",
        "A random variable is any rule that associates a number with each outcome in $S$\n",
        "\n",
        "A random variable is discrete if its possible values are a finite set, or can be listed as an infinite sequence\n",
        "\n",
        "The probability mass function of a discrete random variable is\n",
        "\n",
        "$p(x) = P(X=x) = P(\\forall s \\in S: X(s) = x)$\n",
        "\n",
        "This can be defined as the probability that our function will return $x$ for any given value $x$ in $S$\n",
        "\n",
        "\n",
        "The cumulative distribution function of a discrete randim variable with a probability mass function $p(x)$ is\n",
        "\n",
        "$F(x) = P(X \\leq x) = \\sum \\limits _{y:y\\leq x} p(y)$\n",
        "\n",
        "This is the sum of the pmf for each possible value that is less than or equal to $x$\n",
        "\n",
        "The expected value of a random variable $X$ is the mean of a large number of independent realizations of $X$, and is portrayed by the following\n",
        "\n",
        "$E(X) = \\mu _X = \\sum \\limits _{x\\in D}\\cdot p(x)$\n",
        "\n",
        "The variance is how far a set of numbers spread from from their average value. For the pmf of $X$ defined as $p(x)$ with expected value $\\mu$, the variance is\n",
        "\n",
        "$V(X) = \\sum \\limits _D (x-\\mu)^2 \\cdot p(x)$\n",
        "\n",
        "And the standard deviation is\n",
        "\n",
        "$\\sigma_X = \\sqrt{\\sigma_X^2}$"
      ]
    },
    {
      "cell_type": "code",
      "execution_count": null,
      "id": "c3429765",
      "metadata": {
        "id": "c3429765",
        "outputId": "c09541d8-7c77-461d-d54f-257ee03d19e8"
      },
      "outputs": [
        {
          "data": {
            "text/plain": [
              "3.5"
            ]
          },
          "execution_count": 27,
          "metadata": {},
          "output_type": "execute_result"
        }
      ],
      "source": [
        "S = np.array([1,2,3,4,5,6])\n",
        "\n",
        "pmf = np.array([1/6,1/6,1/6,1/6,1/6,1/6])\n",
        "\n",
        "\n",
        "mu = sum(S) / len(S)\n",
        "\n",
        "mu"
      ]
    },
    {
      "cell_type": "code",
      "execution_count": null,
      "id": "82b3bee9",
      "metadata": {
        "id": "82b3bee9",
        "outputId": "a595e070-d50e-4ed9-b7fe-8903d56866ac"
      },
      "outputs": [
        {
          "data": {
            "text/plain": [
              "2.9166666666666665"
            ]
          },
          "execution_count": 28,
          "metadata": {},
          "output_type": "execute_result"
        }
      ],
      "source": [
        "\n",
        "V = sum((S - mu) ** 2 * pmf)\n",
        "V"
      ]
    },
    {
      "cell_type": "markdown",
      "id": "232a1a4a",
      "metadata": {
        "id": "232a1a4a"
      },
      "source": [
        "## Continuous Random Variables\n",
        "\n",
        "A random variable is continuous if both the following are true\n",
        "\n",
        "1. Its set of possible values consists of all numbers consists of all numbers on a single interval on the number line\n",
        "2. $P(X=c)=0$ for any possible individual value $c$\n",
        "\n",
        "\n",
        "The pdf of a continuous random variable is\n",
        "\n",
        "$P(a\\leq X \\leq B) = \\int_a^b f(x)dx$\n",
        "\n",
        "$f(x)$ must be greater than or equal to $0$ for all $x$ and the total area under the core must be equal to $1$\n",
        "\n",
        "We can define the expected value $\\mu$ as\n",
        "\n",
        "$\\mu_X = E(X) = \\int _\\infty ^\\infty x \\cdot f(x) dx$\n",
        "\n",
        "\n",
        "And the variance $V$ as\n",
        "\n",
        "$V(X) - \\int _\\infty ^\\infty (x - \\mu)^2 \\cdot f(x)dx$"
      ]
    },
    {
      "cell_type": "code",
      "execution_count": null,
      "id": "f8f11ba2",
      "metadata": {
        "id": "f8f11ba2",
        "outputId": "c1c3f3b6-3dc3-4e0e-fdaf-aa5cc7812d00"
      },
      "outputs": [
        {
          "data": {
            "text/plain": [
              "3.498091965895891"
            ]
          },
          "execution_count": 39,
          "metadata": {},
          "output_type": "execute_result"
        }
      ],
      "source": [
        "Test = mu +  V ** 0.5 * np.random.normal(size = 100)\n",
        "E = sum(Test) / len(Test)\n",
        "\n",
        "E   # as can be seen, using the mu and Variance from the discrete function\n",
        "# the expected val of our continuous function approximates that of the discrete"
      ]
    },
    {
      "cell_type": "code",
      "execution_count": null,
      "id": "9cec986c",
      "metadata": {
        "id": "9cec986c"
      },
      "outputs": [],
      "source": []
    }
  ],
  "metadata": {
    "kernelspec": {
      "display_name": "Python 3",
      "language": "python",
      "name": "python3"
    },
    "language_info": {
      "codemirror_mode": {
        "name": "ipython",
        "version": 3
      },
      "file_extension": ".py",
      "mimetype": "text/x-python",
      "name": "python",
      "nbconvert_exporter": "python",
      "pygments_lexer": "ipython3",
      "version": "3.8.10"
    },
    "colab": {
      "provenance": [],
      "include_colab_link": true
    }
  },
  "nbformat": 4,
  "nbformat_minor": 5
}