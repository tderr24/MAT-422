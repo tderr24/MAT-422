{
  "cells": [
    {
      "cell_type": "markdown",
      "metadata": {
        "id": "view-in-github",
        "colab_type": "text"
      },
      "source": [
        "<a href=\"https://colab.research.google.com/github/tderr24/MAT-422/blob/main/HW_2_3.ipynb\" target=\"_parent\"><img src=\"https://colab.research.google.com/assets/colab-badge.svg\" alt=\"Open In Colab\"/></a>"
      ]
    },
    {
      "cell_type": "markdown",
      "id": "c99b1a60",
      "metadata": {
        "id": "c99b1a60"
      },
      "source": [
        "# MAT 422\n",
        "\n",
        "## HW 2.3 - Independent Variables and Random Samples\n",
        "\n",
        "### Thomas Derr"
      ]
    },
    {
      "cell_type": "code",
      "execution_count": null,
      "id": "60612b75",
      "metadata": {
        "id": "60612b75"
      },
      "outputs": [],
      "source": [
        "import numpy as np\n",
        "import pandas as pd\n",
        "import matplotlib.pyplot as plt"
      ]
    },
    {
      "cell_type": "markdown",
      "id": "8c44f372",
      "metadata": {
        "id": "8c44f372"
      },
      "source": [
        "## Joint Probability Distributions\n",
        "\n",
        "A joint probability distribution shows the probbability distribution of two or more random variables\n",
        "\n",
        "\n",
        "For two random variables $X$ and $Y$, the joint probability mass function is defined as\n",
        "\n",
        "$p(x,y) = P(X=x \\text{ and } Y=y)$\n",
        "\n",
        "\n",
        "If $X$ and $Y$ are continuous, their marginal probability density function is\n",
        "\n",
        "$P[(X,Y) \\in A]=$ The volume under the density surface above $A$\n",
        "\n",
        "Random variables are simmilar to random events, two variables $X$ and $Y$ are independent if for all $(x,y)$\n",
        "\n",
        "$p(x,y) = p_X(x)\\cdot p_Y(y)$ for discrete variables\n",
        "\n",
        "and\n",
        "\n",
        "$f(x,y) = f_X(x)\\cdot f_Y(y)$ for continuous variables\n"
      ]
    },
    {
      "cell_type": "code",
      "execution_count": null,
      "id": "c6faab92",
      "metadata": {
        "id": "c6faab92",
        "outputId": "3d6878c5-1130-424c-d15e-caf99a4f64c3"
      },
      "outputs": [
        {
          "data": {
            "text/plain": [
              "0.09626"
            ]
          },
          "execution_count": 2,
          "metadata": {},
          "output_type": "execute_result"
        }
      ],
      "source": [
        "# essentailly here, we are simulating a lifetime of X and Y\n",
        "# given their respective parameters, we generate a random number\n",
        "# if the is less than 1400, it has \"survived\"\n",
        "# if we do this many times, we should be able to approximate the\n",
        "# probability that both component lives are atleast 1400 hours\n",
        "# In the textbook it is calculated to be approx 0.0952\n",
        "\n",
        "lambda_1 = 1 / 1100\n",
        "lambda_2 = 1 / 1300\n",
        "n =100000 # 1000 runs\n",
        "survive_count = 0 # iterate when both last long\n",
        "\n",
        "\n",
        "for i in range(0, n):\n",
        "    X = np.random.exponential(scale= 1 /lambda_1, size=1)\n",
        "    Y= np.random.exponential(scale= 1 / lambda_2, size=1)\n",
        "\n",
        "    if ((X[0] > 1400) and (Y[0] > 1400)):\n",
        "        survive_count += 1\n",
        "\n",
        "pct = survive_count / n\n",
        "pct"
      ]
    },
    {
      "cell_type": "markdown",
      "id": "0286607e",
      "metadata": {
        "id": "0286607e"
      },
      "source": [
        "## Correlation and Dependence\n",
        "\n",
        "A correlation means that there is a predictive relationship between two variables, wheras covariance is the measure of the joint variability of two variables. It is commmon when dealing with dependent random variables to try and discern what relationship exists between them.\n",
        "\n",
        "Given two random variables $X$ and $Y$, their covariance is\n",
        "\n",
        "$\\text{Cov}(X,Y) = E [(X - \\mu_X) (Y - \\mu_Y)]$\n",
        "\n",
        "We can also refer to this as the expected product of $X$ and $Y$'s deviations\n",
        "\n",
        "We can define the correlation coefficient of $X$ and $Y$ to be their covariance divided by the product of their standard deviations\n",
        "\n",
        "$\\rho_{X,Y} - \\frac{\\text{Cov}(X,Y)}{\\sigma_X \\cdot \\sigma_Y}$\n",
        "\n",
        "$\\rho = 0$ for all independent variables, but not all $\\rho \\neq 0$ for dependent variables. Additionally, we know $|\\rho| \\leq 1$"
      ]
    },
    {
      "cell_type": "code",
      "execution_count": null,
      "id": "333dab89",
      "metadata": {
        "id": "333dab89",
        "outputId": "df2fd963-fbeb-40cf-b39c-c6faf67c5f2c"
      },
      "outputs": [
        {
          "data": {
            "image/png": "[encoded data removed]",
            "text/plain": [
              "<Figure size 432x288 with 1 Axes>"
            ]
          },
          "metadata": {
            "needs_background": "light"
          },
          "output_type": "display_data"
        }
      ],
      "source": [
        "X = np.random.rand(20)\n",
        "Y = np.random.rand(20)\n",
        "fig, ax = plt.subplots()\n",
        "ax.scatter(X, Y)\n",
        "a = np.corrcoef(X, Y)"
      ]
    },
    {
      "cell_type": "code",
      "execution_count": null,
      "id": "7dd09206",
      "metadata": {
        "id": "7dd09206",
        "outputId": "6e84b5c8-302f-48ee-9e9a-b681081c99b7"
      },
      "outputs": [
        {
          "data": {
            "text/plain": [
              "-0.15970807742524776"
            ]
          },
          "execution_count": 4,
          "metadata": {},
          "output_type": "execute_result"
        }
      ],
      "source": [
        "a[0,1] # As can be seen the correlation coefficinet for X and Y\n",
        "# is very low, this is expected as can be seen in the graph\n",
        "# they are also independently generated random distributions so\n",
        "# they should be fairly independent of eachother"
      ]
    },
    {
      "cell_type": "code",
      "execution_count": null,
      "id": "0777f02a",
      "metadata": {
        "id": "0777f02a",
        "outputId": "e69eb171-ab64-43bb-acab-33fbc6ddcaa6"
      },
      "outputs": [
        {
          "data": {
            "image/png": "[encoded data removed]",
            "text/plain": [
              "<Figure size 432x288 with 1 Axes>"
            ]
          },
          "metadata": {
            "needs_background": "light"
          },
          "output_type": "display_data"
        }
      ],
      "source": [
        "Y_2 = X+ (np.divide([Y], 3))\n",
        "fig, ax = plt.subplots()\n",
        "ax.scatter(X, Y_2)\n",
        "a_2 = np.corrcoef(X, Y_2)"
      ]
    },
    {
      "cell_type": "code",
      "execution_count": null,
      "id": "dd171cbd",
      "metadata": {
        "id": "dd171cbd",
        "outputId": "623d97bb-7694-4f83-e2d8-515522db47f1"
      },
      "outputs": [
        {
          "data": {
            "text/plain": [
              "0.9456277893586543"
            ]
          },
          "execution_count": 6,
          "metadata": {},
          "output_type": "execute_result"
        }
      ],
      "source": [
        "a_2[0,1] # our new variable Y_2 was made as a randomized alteration\n",
        "# of X by a small ammount, so it is expected that the correlation\n",
        "# coefficient would be close to 1. This is supported by the graph"
      ]
    },
    {
      "cell_type": "markdown",
      "id": "d1f9e0d8",
      "metadata": {
        "id": "d1f9e0d8"
      },
      "source": [
        "## Random Samples\n",
        "\n",
        "A random sample is a randomly selected subset of a population\n",
        "\n",
        "A set of random variables $S = X_1, X_2, ..., X_n$ form a simple random sample of size $n$ if\n",
        "\n",
        "1. $\\forall (X_i, X_j) \\in S, X_i $ is indepenent of $X_j$\n",
        "2. Every $X_i \\in S$ has the same probability distribution\n",
        "\n",
        "We can define the expected value and variance of $S$ to be\n",
        "\n",
        "$E(\\bar{X}) = \\mu_\\bar{X} - \\mu$\n",
        "\n",
        "$V(\\bar{X}) = \\sigma^2_\\bar{X} = \\frac{\\sigma^2}{n}$\n",
        "\n",
        "The central limit theorem states that the properly normalized sum of independent random variables approximates a normal distribution, regardless of whether or not the those variables are normally distributed, it states as follows\n",
        "\n",
        "For a random sample $S = X_1, X_2, ..., X_n$ with sufficiently large $n$, mean $\\mu$, and variance $\\sigma^2$\n",
        "\n",
        "$\\bar{X}$ has approximatly a normal distribution with\n",
        "\n",
        "$\\mu_X = \\mu$\n",
        "\n",
        "$\\sigma_\\bar{X}^2 = \\frac{\\sigma^2}{n}$\n",
        "\n"
      ]
    },
    {
      "cell_type": "code",
      "execution_count": null,
      "id": "caf639d6",
      "metadata": {
        "id": "caf639d6",
        "outputId": "12dda086-9dc5-41fd-8eac-a8a3cfc5c5b3"
      },
      "outputs": [
        {
          "data": {
            "text/plain": [
              "(array([ 2.,  4.,  9., 16., 18., 22., 11.,  8.,  6.,  3.]),\n",
              " array([1006.33044034, 1023.83739674, 1041.34435314, 1058.85130954,\n",
              "        1076.35826594, 1093.86522234, 1111.37217873, 1128.87913513,\n",
              "        1146.38609153, 1163.89304793, 1181.40000433]),\n",
              " <BarContainer object of 10 artists>)"
            ]
          },
          "execution_count": 7,
          "metadata": {},
          "output_type": "execute_result"
        },
        {
          "data": {
            "image/png": "[encoded data removed]",
            "text/plain": [
              "<Figure size 432x288 with 1 Axes>"
            ]
          },
          "metadata": {
            "needs_background": "light"
          },
          "output_type": "display_data"
        }
      ],
      "source": [
        "# generate 100 exponential distributions of size 1000 and\n",
        "#find the distribution of their means\n",
        "df = pd.DataFrame()\n",
        "size = 1000\n",
        "n = 100\n",
        "\n",
        "for i in range(1, n):\n",
        "    rowname = \"row \" + str(i)\n",
        "    X_n= np.random.exponential(scale= 1 /lambda_1, size=size)\n",
        "    df[rowname] = X_n\n",
        "\n",
        "means = df.mean()\n",
        "\n",
        "plt.hist(means)# as can be seen, the means are normally distributed\n",
        "# despite the original distribution being exponential"
      ]
    }
  ],
  "metadata": {
    "kernelspec": {
      "display_name": "Python 3",
      "language": "python",
      "name": "python3"
    },
    "language_info": {
      "codemirror_mode": {
        "name": "ipython",
        "version": 3
      },
      "file_extension": ".py",
      "mimetype": "text/x-python",
      "name": "python",
      "nbconvert_exporter": "python",
      "pygments_lexer": "ipython3",
      "version": "3.8.10"
    },
    "colab": {
      "provenance": [],
      "include_colab_link": true
    }
  },
  "nbformat": 4,
  "nbformat_minor": 5
}