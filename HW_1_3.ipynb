{
  "cells": [
    {
      "cell_type": "markdown",
      "metadata": {
        "id": "view-in-github",
        "colab_type": "text"
      },
      "source": [
        "<a href=\"https://colab.research.google.com/github/tderr24/MAT-422/blob/main/HW_1_3.ipynb\" target=\"_parent\"><img src=\"https://colab.research.google.com/assets/colab-badge.svg\" alt=\"Open In Colab\"/></a>"
      ]
    },
    {
      "cell_type": "markdown",
      "id": "a4d519fd",
      "metadata": {
        "id": "a4d519fd"
      },
      "source": [
        "# MAT 422\n",
        "\n",
        "## HW 1.3 - Linear Regression\n",
        "\n",
        "### Thomas Derr"
      ]
    },
    {
      "cell_type": "code",
      "execution_count": null,
      "id": "4cee1e2f",
      "metadata": {
        "id": "4cee1e2f"
      },
      "outputs": [],
      "source": [
        "import numpy as np\n",
        "import pandas as pd\n",
        "from sklearn.linear_model import LinearRegression\n",
        "from  matplotlib import pyplot\n",
        "\n",
        "#### Begin helper function\n",
        "from IPython.display import display_html\n",
        "from itertools import chain,cycle\n",
        "def display_side_by_side(*args,titles=cycle([''])):\n",
        "    html_str=''\n",
        "    for df,title in zip(args, chain(titles,cycle(['</br>'])) ):\n",
        "        html_str+='<th style=\"text-align:center\"><td style=\"vertical-align:top\">'\n",
        "        html_str+=f'<h2 style=\"text-align: center;\">{title}</h2>'\n",
        "        html_str+=df.to_html().replace('table','table style=\"display:inline\"')\n",
        "        html_str+='</td></th>'\n",
        "    display_html(html_str,raw=True)\n",
        "\n",
        "## End helper function\n",
        "# Source - https://stackoverflow.com/questions/38783027/jupyter-notebook-display-two-pandas-tables-side-by-side"
      ]
    },
    {
      "cell_type": "markdown",
      "id": "50a36d97",
      "metadata": {
        "id": "50a36d97"
      },
      "source": [
        "## QR decomposition\n",
        "\n",
        "\n",
        "QR decomposition breaks down some $n\\times m$ matrix $A$ into two matrices $Q$ and $R$ which abide by the following equation.\n",
        "\n",
        "$A = QR$\n",
        "\n",
        "\n",
        "It is simmilar to $UL$ decomposition in that it creates an upper-triangular matrix, however, instead of breaking $M$ into a product of upper and lower triangular matrices, it makes $Q$ and $R$ an orthogonal matrix and an upper triangular matrix respectively.\n",
        "\n"
      ]
    },
    {
      "cell_type": "code",
      "execution_count": null,
      "id": "6926b843",
      "metadata": {
        "id": "6926b843",
        "outputId": "573ad5b3-6e28-4693-f749-17893336a930"
      },
      "outputs": [
        {
          "data": {
            "text/html": [
              "<th style=\"text-align:center\"><td style=\"vertical-align:top\"><h2 style=\"text-align: center;\">A</h2><table style=\"display:inline\" border=\"1\" class=\"dataframe\">\n",
              "  <thead>\n",
              "    <tr style=\"text-align: right;\">\n",
              "      <th></th>\n",
              "      <th>0</th>\n",
              "      <th>1</th>\n",
              "      <th>2</th>\n",
              "      <th>3</th>\n",
              "      <th>4</th>\n",
              "    </tr>\n",
              "  </thead>\n",
              "  <tbody>\n",
              "    <tr>\n",
              "      <th>0</th>\n",
              "      <td>0.094315</td>\n",
              "      <td>0.622895</td>\n",
              "      <td>0.264661</td>\n",
              "      <td>0.343944</td>\n",
              "      <td>0.440746</td>\n",
              "    </tr>\n",
              "    <tr>\n",
              "      <th>1</th>\n",
              "      <td>0.223525</td>\n",
              "      <td>0.332799</td>\n",
              "      <td>0.030414</td>\n",
              "      <td>0.675009</td>\n",
              "      <td>0.473818</td>\n",
              "    </tr>\n",
              "    <tr>\n",
              "      <th>2</th>\n",
              "      <td>0.660020</td>\n",
              "      <td>0.373614</td>\n",
              "      <td>0.488603</td>\n",
              "      <td>0.856432</td>\n",
              "      <td>0.744453</td>\n",
              "    </tr>\n",
              "    <tr>\n",
              "      <th>3</th>\n",
              "      <td>0.084478</td>\n",
              "      <td>0.415945</td>\n",
              "      <td>0.549055</td>\n",
              "      <td>0.492664</td>\n",
              "      <td>0.138167</td>\n",
              "    </tr>\n",
              "    <tr>\n",
              "      <th>4</th>\n",
              "      <td>0.742512</td>\n",
              "      <td>0.561759</td>\n",
              "      <td>0.404076</td>\n",
              "      <td>0.167414</td>\n",
              "      <td>0.519955</td>\n",
              "    </tr>\n",
              "  </tbody>\n",
              "</table style=\"display:inline\"></td></th><th style=\"text-align:center\"><td style=\"vertical-align:top\"><h2 style=\"text-align: center;\">Q</h2><table style=\"display:inline\" border=\"1\" class=\"dataframe\">\n",
              "  <thead>\n",
              "    <tr style=\"text-align: right;\">\n",
              "      <th></th>\n",
              "      <th>0</th>\n",
              "      <th>1</th>\n",
              "      <th>2</th>\n",
              "      <th>3</th>\n",
              "      <th>4</th>\n",
              "    </tr>\n",
              "  </thead>\n",
              "  <tbody>\n",
              "    <tr>\n",
              "      <th>0</th>\n",
              "      <td>-0.091913</td>\n",
              "      <td>-0.800277</td>\n",
              "      <td>0.248377</td>\n",
              "      <td>-0.117421</td>\n",
              "      <td>-0.525004</td>\n",
              "    </tr>\n",
              "    <tr>\n",
              "      <th>1</th>\n",
              "      <td>-0.217833</td>\n",
              "      <td>-0.227926</td>\n",
              "      <td>0.503556</td>\n",
              "      <td>0.645972</td>\n",
              "      <td>0.479323</td>\n",
              "    </tr>\n",
              "    <tr>\n",
              "      <th>2</th>\n",
              "      <td>-0.643212</td>\n",
              "      <td>0.215838</td>\n",
              "      <td>-0.322645</td>\n",
              "      <td>0.461131</td>\n",
              "      <td>-0.472176</td>\n",
              "    </tr>\n",
              "    <tr>\n",
              "      <th>3</th>\n",
              "      <td>-0.082326</td>\n",
              "      <td>-0.509604</td>\n",
              "      <td>-0.738522</td>\n",
              "      <td>0.048306</td>\n",
              "      <td>0.431019</td>\n",
              "    </tr>\n",
              "    <tr>\n",
              "      <th>4</th>\n",
              "      <td>-0.723603</td>\n",
              "      <td>0.036387</td>\n",
              "      <td>0.187684</td>\n",
              "      <td>-0.594944</td>\n",
              "      <td>0.293072</td>\n",
              "    </tr>\n",
              "  </tbody>\n",
              "</table style=\"display:inline\"></td></th><th style=\"text-align:center\"><td style=\"vertical-align:top\"><h2 style=\"text-align: center;\">R</h2><table style=\"display:inline\" border=\"1\" class=\"dataframe\">\n",
              "  <thead>\n",
              "    <tr style=\"text-align: right;\">\n",
              "      <th></th>\n",
              "      <th>0</th>\n",
              "      <th>1</th>\n",
              "      <th>2</th>\n",
              "      <th>3</th>\n",
              "      <th>4</th>\n",
              "    </tr>\n",
              "  </thead>\n",
              "  <tbody>\n",
              "    <tr>\n",
              "      <th>0</th>\n",
              "      <td>-1.026131</td>\n",
              "      <td>-0.810794</td>\n",
              "      <td>-0.682819</td>\n",
              "      <td>-0.891220</td>\n",
              "      <td>-1.010181</td>\n",
              "    </tr>\n",
              "    <tr>\n",
              "      <th>1</th>\n",
              "      <td>0.000000</td>\n",
              "      <td>-0.685228</td>\n",
              "      <td>-0.378373</td>\n",
              "      <td>-0.489224</td>\n",
              "      <td>-0.351524</td>\n",
              "    </tr>\n",
              "    <tr>\n",
              "      <th>2</th>\n",
              "      <td>0.000000</td>\n",
              "      <td>0.000000</td>\n",
              "      <td>-0.406245</td>\n",
              "      <td>-0.183413</td>\n",
              "      <td>0.103419</td>\n",
              "    </tr>\n",
              "    <tr>\n",
              "      <th>3</th>\n",
              "      <td>0.000000</td>\n",
              "      <td>0.000000</td>\n",
              "      <td>0.000000</td>\n",
              "      <td>0.714775</td>\n",
              "      <td>0.294940</td>\n",
              "    </tr>\n",
              "    <tr>\n",
              "      <th>4</th>\n",
              "      <td>0.000000</td>\n",
              "      <td>0.000000</td>\n",
              "      <td>0.000000</td>\n",
              "      <td>0.000000</td>\n",
              "      <td>-0.143858</td>\n",
              "    </tr>\n",
              "  </tbody>\n",
              "</table style=\"display:inline\"></td></th>"
            ]
          },
          "metadata": {},
          "output_type": "display_data"
        }
      ],
      "source": [
        "A = np.random.rand(5,5)\n",
        "Q, R = np.linalg.qr(A)\n",
        "display_side_by_side(pd.DataFrame(A),pd.DataFrame(Q),pd.DataFrame(R), titles=['A','Q', 'R'])"
      ]
    },
    {
      "cell_type": "markdown",
      "id": "b35531f8",
      "metadata": {
        "id": "b35531f8"
      },
      "source": [
        "## Least Squares\n",
        "\n",
        "Least squares is a method of solving the system of\n",
        "\n",
        "$A\\textbf{x} = b$\n",
        "\n",
        "given a matrix $A$ and a vector $b$\n",
        "\n",
        "\n",
        "To do this we want to solve for\n",
        "\n",
        "$\\min \\limits_{x\\in \\mathbb{R}^m} ||Ax-b||$\n",
        "\n",
        "\n",
        "\n",
        "Therefore, we want to mimimize\n",
        "\n",
        "$\\sum \\limits_{i=1}^{n}(\\hat{y}_i - b_i)^2$ for $\\hat{y}_i  = \\sum \\limits_{j=1}^{m}x_ja_{i,j}$\n",
        "\n",
        "by finding the optimal combination of $A$'s columns.\n",
        "\n",
        "We can do this by using $QR$ decomposition to take advantage of being able to use back substitution on $R$ as it is upper triangular\n",
        "\n",
        "$Rx^* = Q^Tb$\n",
        "\n",
        "Below we will show solving for least squares with a python package, as well as using $QR$ decomposition"
      ]
    },
    {
      "cell_type": "code",
      "execution_count": null,
      "id": "462869f8",
      "metadata": {
        "id": "462869f8",
        "outputId": "ecd82f74-66c5-46f3-d65f-8be8dcd79ef5"
      },
      "outputs": [
        {
          "data": {
            "text/html": [
              "<th style=\"text-align:center\"><td style=\"vertical-align:top\"><h2 style=\"text-align: center;\">linalg.lstsq</h2><table style=\"display:inline\" border=\"1\" class=\"dataframe\">\n",
              "  <thead>\n",
              "    <tr style=\"text-align: right;\">\n",
              "      <th></th>\n",
              "      <th>0</th>\n",
              "    </tr>\n",
              "  </thead>\n",
              "  <tbody>\n",
              "    <tr>\n",
              "      <th>0</th>\n",
              "      <td>-1.367222</td>\n",
              "    </tr>\n",
              "    <tr>\n",
              "      <th>1</th>\n",
              "      <td>0.012076</td>\n",
              "    </tr>\n",
              "    <tr>\n",
              "      <th>2</th>\n",
              "      <td>0.110411</td>\n",
              "    </tr>\n",
              "    <tr>\n",
              "      <th>3</th>\n",
              "      <td>1.061150</td>\n",
              "    </tr>\n",
              "    <tr>\n",
              "      <th>4</th>\n",
              "      <td>2.292640</td>\n",
              "    </tr>\n",
              "  </tbody>\n",
              "</table style=\"display:inline\"></td></th><th style=\"text-align:center\"><td style=\"vertical-align:top\"><h2 style=\"text-align: center;\">QR Decomposition</h2><table style=\"display:inline\" border=\"1\" class=\"dataframe\">\n",
              "  <thead>\n",
              "    <tr style=\"text-align: right;\">\n",
              "      <th></th>\n",
              "      <th>0</th>\n",
              "    </tr>\n",
              "  </thead>\n",
              "  <tbody>\n",
              "    <tr>\n",
              "      <th>0</th>\n",
              "      <td>-1.367222</td>\n",
              "    </tr>\n",
              "    <tr>\n",
              "      <th>1</th>\n",
              "      <td>0.012076</td>\n",
              "    </tr>\n",
              "    <tr>\n",
              "      <th>2</th>\n",
              "      <td>0.110411</td>\n",
              "    </tr>\n",
              "    <tr>\n",
              "      <th>3</th>\n",
              "      <td>1.061150</td>\n",
              "    </tr>\n",
              "    <tr>\n",
              "      <th>4</th>\n",
              "      <td>2.292640</td>\n",
              "    </tr>\n",
              "  </tbody>\n",
              "</table style=\"display:inline\"></td></th>"
            ]
          },
          "metadata": {},
          "output_type": "display_data"
        }
      ],
      "source": [
        "# solving with numpy library\n",
        "A = np.random.rand(5,5)\n",
        "b = np.random.rand(5,1)\n",
        "xlst = np.linalg.lstsq(A,b, rcond=None)[0]\n",
        "\n",
        "# solving with QR decomposition\n",
        "Q, R = np.linalg.qr(A)\n",
        "Qt = np.matrix.transpose(Q)\n",
        "xQR = np.linalg.solve(R, (Qt.dot(b)))\n",
        "\n",
        "\n",
        "display_side_by_side(pd.DataFrame(xlst),pd.DataFrame(xQR), titles=['linalg.lstsq','QR Decomposition'])"
      ]
    },
    {
      "cell_type": "markdown",
      "id": "d7a4a042",
      "metadata": {
        "id": "d7a4a042"
      },
      "source": [
        "## Linear Regression\n",
        "\n",
        "Linear regression is a method to minimize the following function\n",
        "\n",
        "$\\sum \\limits_{i=1}^{n}(\\hat{y}_i - y_i)^2$\n",
        "\n",
        "for $\\hat{y}_i  = \\beta_0 \\sum \\limits_{j=1}^{d}\\beta_jx_{ij}$\n",
        "\n",
        "This gives us an optimal linear function to fit our data.\n",
        "\n",
        "If we format the coefficients $\\beta_0...\\beta_d$ as a column vector, we can frame the problem as a least squares problem\n",
        "\n",
        "Of the form\n",
        "\n",
        "$y = \\begin{pmatrix} y_1 \\\\ y_2 \\\\ \\vdots \\\\ y_n\\end{pmatrix}, A = \\begin{pmatrix}  1 & x_1^T \\\\ 1 & x_2^T \\\\ \\vdots & \\vdots \\\\ 1 & x^T_n\\end{pmatrix}, \\text{ and } \\begin{pmatrix} \\beta_0 \\\\ \\beta_1 \\\\ \\vdots \\\\ \\beta_d \\end{pmatrix}$\n",
        "\n",
        "as we are trying to find\n",
        "\n",
        "\n",
        "$\\min \\limits_{\\beta} ||y-A\\beta||$\n"
      ]
    },
    {
      "cell_type": "code",
      "execution_count": null,
      "id": "af6f48d7",
      "metadata": {
        "id": "af6f48d7",
        "outputId": "683167eb-c738-4bff-ba2a-0e36604e68d4"
      },
      "outputs": [
        {
          "data": {
            "image/png": "[encoded data removed]",
            "text/plain": [
              "<Figure size 432x288 with 1 Axes>"
            ]
          },
          "metadata": {
            "needs_background": "light"
          },
          "output_type": "display_data"
        }
      ],
      "source": [
        "#Y\n",
        "y = np.random.uniform(0,10, size=(200,))\n",
        "\n",
        "#A\n",
        "A = np.random.rand(200,1)\n",
        "ones = np.ones((200,1))\n",
        "df = np.concatenate([ones, A], axis=1)\n",
        "\n",
        "#Perform regression\n",
        "reg = LinearRegression().fit(df,y)\n",
        "\n",
        "#Visual\n",
        "reg.fit(A, y)\n",
        "pred=reg.predict(A)\n",
        "pyplot.scatter(A, y)\n",
        "pyplot.plot(A,pred, color='red')\n",
        "pyplot.ylim([-10, 20])\n",
        "pyplot.show()"
      ]
    },
    {
      "cell_type": "code",
      "execution_count": null,
      "id": "6b23f763",
      "metadata": {
        "id": "6b23f763"
      },
      "outputs": [],
      "source": []
    }
  ],
  "metadata": {
    "kernelspec": {
      "display_name": "Python 3",
      "language": "python",
      "name": "python3"
    },
    "language_info": {
      "codemirror_mode": {
        "name": "ipython",
        "version": 3
      },
      "file_extension": ".py",
      "mimetype": "text/x-python",
      "name": "python",
      "nbconvert_exporter": "python",
      "pygments_lexer": "ipython3",
      "version": "3.8.10"
    },
    "colab": {
      "provenance": [],
      "include_colab_link": true
    }
  },
  "nbformat": 4,
  "nbformat_minor": 5
}